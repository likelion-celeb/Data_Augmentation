{
 "cells": [
  {
   "cell_type": "code",
   "execution_count": null,
   "metadata": {},
   "outputs": [],
   "source": [
    "import urllib.request\n",
    "import time, os\n",
    "\n",
    "from selenium.webdriver.common.keys import Keys\n",
    "from selenium import webdriver"
   ]
  },
  {
   "cell_type": "code",
   "execution_count": null,
   "metadata": {},
   "outputs": [],
   "source": [
    "# 폴더 확인해보고 없으면 생성\n",
    "def makedirs(path): \n",
    "   try: \n",
    "        os.makedirs(path) \n",
    "   except OSError: \n",
    "       if not os.path.isdir(path): \n",
    "           raise\n",
    "\n",
    "def search_selenium(search_name, search_limit, scroll_limit=5):\n",
    "    root = os.path.join(os.getcwd())\n",
    "    \n",
    "    driver = webdriver.Chrome(root + '/driver/chromedriver.exe') # 여기에 크롬드라이브 다운로드 받은 경로를 입력한다.\n",
    "    driver.get(\"https://www.google.co.kr/imghp?hl=ko&ogbl\")      # google 이미지 카테고리 링크\n",
    "    elem = driver.find_element_by_name(\"q\")                      # q라는 엘리멘트를 찾는다\n",
    "    elem.send_keys(search_name)                                  # 검색하고 싶은 검색어로 검색\n",
    "    elem.send_keys(Keys.RETURN)\n",
    "\n",
    "    # Scroll 제어 파라미터 선언\n",
    "    SCROLL_PAUSE_TIME = 1\n",
    "    last_height = driver.execute_script(\"return document.body.scrollHeight\")\n",
    "    scroll_count = 1\n",
    "\n",
    "    while True:\n",
    "        # scroll limit가 넘어가면 scroll 종료\n",
    "        if scroll_count > scroll_limit:\n",
    "            break\n",
    "\n",
    "        driver.execute_script(\"window.scrollTo(0, document.body.scrollHeight);\")\n",
    "    \n",
    "        time.sleep(SCROLL_PAUSE_TIME)\n",
    "    \n",
    "        new_height = driver.execute_script(\"return document.body.scrollHeight\")\n",
    "        if new_height == last_height:\n",
    "            try:\n",
    "                # 만약에 더보기 버튼 생기면 클릭\n",
    "                driver.find_element_by_css_selector(\".mye4qd\").click()\n",
    "            except:\n",
    "                break\n",
    "        last_height = new_height\n",
    "\n",
    "        scroll_count += 1\n",
    "\n",
    "    images = driver.find_elements_by_css_selector(\"img.rg_i.Q4LuWd\")\n",
    "    \n",
    "    save_dir = root + \"/download_imgs/\" + search_name\n",
    "    makedirs(save_dir)\n",
    "\n",
    "    links = []\n",
    "\n",
    "    # 이미지 다운로드 경로 받아오는 영역    \n",
    "    for image in images[:search_limit]: \n",
    "        if image.get_attribute('src') != None: \n",
    "            links.append(image.get_attribute('src'))\n",
    "\n",
    "    print('찾은 이미지 개수:', len(links)) \n",
    "    time.sleep(2)\n",
    "\n",
    "    # 다운로드 경로를 통해 이미지 받는 영역\n",
    "    for idx, link in enumerate(links): \n",
    "        url = link\n",
    "        download_start = time.time()\n",
    "\n",
    "        # 이미지 다운로드 받는 method (이미지 다운로드 링크, 이미지 저장 경로 & 이미지 이름)\n",
    "        urllib.request.urlretrieve(url, save_dir + \"/\" + str(idx) + \".jpg\")\n",
    "        print(str(idx+1) + '/' + str(len(links)) + ' '+ search_name + ' 다운로드 중....... Download time : ' + str(time.time() - download_start)[:5] + ' 초') \n",
    "        print(search_name+' ---다운로드 완료---')\n",
    "\n",
    "    driver.close()\n",
    "\n"
   ]
  },
  {
   "cell_type": "code",
   "execution_count": null,
   "metadata": {},
   "outputs": [],
   "source": [
    "search_names = list(map(str, input(\"검색하고 싶은 키워드(한칸씩 띄워서 여러개 입력 가능) : \").split()))\n",
    "search_limit = int(input(\"원하는 이미지 수집 개수 : \"))\n",
    "try:\n",
    "    scroll_limit = int(input(\"스크롤 횟수 (default=5) : \"))\n",
    "except:\n",
    "    scroll_limit = 5\n",
    "start = time.time()\n",
    "for search_name in search_names:\n",
    "    search_selenium(search_name, search_limit, scroll_limit)\n",
    "print(\"수집 수행시간 : {}초\".format(round(time.time() - start, 3)))"
   ]
  },
  {
   "cell_type": "markdown",
   "metadata": {},
   "source": []
  }
 ],
 "metadata": {
  "interpreter": {
   "hash": "63fd5069d213b44bf678585dea6b12cceca9941eaf7f819626cde1f2670de90d"
  },
  "kernelspec": {
   "display_name": "Python 3.9.5 64-bit",
   "language": "python",
   "name": "python3"
  },
  "language_info": {
   "codemirror_mode": {
    "name": "ipython",
    "version": 3
   },
   "file_extension": ".py",
   "mimetype": "text/x-python",
   "name": "python",
   "nbconvert_exporter": "python",
   "pygments_lexer": "ipython3",
   "version": "3.8.12"
  },
  "orig_nbformat": 4
 },
 "nbformat": 4,
 "nbformat_minor": 2
}
