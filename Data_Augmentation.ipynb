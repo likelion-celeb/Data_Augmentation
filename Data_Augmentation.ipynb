{
 "cells": [
  {
   "cell_type": "code",
   "execution_count": null,
   "metadata": {},
   "outputs": [],
   "source": [
    "class Image_Augmentation():\n",
    "    def __init__(self, image_list, save_dir):\n",
    "        self.image_list = image_list\n",
    "\n",
    "    # Crop 기능 수행\n",
    "    def crop(self):\n",
    "        pass\n",
    "\n",
    "    # Resize 기능 수행\n",
    "    def resize(self):\n",
    "        pass\n",
    "\n",
    "    # Flip 기능 수행\n",
    "    def flip(self):\n",
    "        pass\n",
    "\n",
    "    # Rotate 기능 수행\n",
    "    def rotate(self):\n",
    "        pass\n",
    "\n",
    "    # Random Erase 기능 수헹\n",
    "    def random_erase(self):\n",
    "        pass\n",
    "\n",
    "    # 처리 전, 후 이미지 확인 기능 수행\n",
    "    def show_images(self, images):\n",
    "        pass"
   ]
  }
 ],
 "metadata": {
  "interpreter": {
   "hash": "0ae7c42412883849bf7d531b6d5c92524fccd52ff69496194d622b40349dcd5f"
  },
  "kernelspec": {
   "display_name": "Python 3.8.3 64-bit ('crawling': conda)",
   "language": "python",
   "name": "python3"
  },
  "language_info": {
   "codemirror_mode": {
    "name": "ipython",
    "version": 3
   },
   "file_extension": ".py",
   "mimetype": "text/x-python",
   "name": "python",
   "nbconvert_exporter": "python",
   "pygments_lexer": "ipython3",
   "version": "3.8.3"
  },
  "orig_nbformat": 4
 },
 "nbformat": 4,
 "nbformat_minor": 2
}
